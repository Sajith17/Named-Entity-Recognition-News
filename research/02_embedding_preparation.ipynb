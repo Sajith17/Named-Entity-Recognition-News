{
  "cells": [
    {
      "cell_type": "code",
      "execution_count": 1,
      "metadata": {},
      "outputs": [
        {
          "data": {
            "text/plain": [
              "'c:\\\\Users\\\\sajit\\\\OneDrive\\\\Documents\\\\Desktop\\\\Pythonn\\\\Git\\\\Named-Entity-Recognition-News\\\\backend\\\\research'"
            ]
          },
          "execution_count": 1,
          "metadata": {},
          "output_type": "execute_result"
        }
      ],
      "source": [
        "%pwd"
      ]
    },
    {
      "cell_type": "code",
      "execution_count": 2,
      "metadata": {},
      "outputs": [],
      "source": [
        "import os\n",
        "os.chdir(\"../\")"
      ]
    },
    {
      "cell_type": "code",
      "execution_count": 3,
      "metadata": {},
      "outputs": [
        {
          "data": {
            "text/plain": [
              "'c:\\\\Users\\\\sajit\\\\OneDrive\\\\Documents\\\\Desktop\\\\Pythonn\\\\Git\\\\Named-Entity-Recognition-News\\\\backend'"
            ]
          },
          "execution_count": 3,
          "metadata": {},
          "output_type": "execute_result"
        }
      ],
      "source": [
        "%pwd"
      ]
    },
    {
      "cell_type": "code",
      "execution_count": 4,
      "metadata": {},
      "outputs": [],
      "source": [
        "from dataclasses import dataclass\n",
        "from pathlib import Path\n",
        "\n",
        "@dataclass(frozen=True)\n",
        "class EmbeddingPreparationConfig:\n",
        "    root_dir: Path\n",
        "    source_URL: str\n",
        "    local_embedding_file: Path\n",
        "    unzip_dir: Path\n",
        "    params_embedding_dims: int\n",
        "    params_vocab_size: int\n"
      ]
    },
    {
      "cell_type": "code",
      "execution_count": 5,
      "metadata": {},
      "outputs": [],
      "source": [
        "from named_entity_recognition.constants import *\n",
        "from named_entity_recognition.utils.common import read_yaml, create_directories"
      ]
    },
    {
      "cell_type": "code",
      "execution_count": 6,
      "metadata": {},
      "outputs": [],
      "source": [
        "class ConfigurationManager:\n",
        "    def __init__(self,\n",
        "                 config_filepath = CONFIG_FILE_PATH,\n",
        "                 params_filepath = PARAMS_FILE_PATH):\n",
        "        self.config = read_yaml(config_filepath)\n",
        "        self.params = read_yaml(params_filepath)\n",
        "\n",
        "        create_directories([self.config.artifacts_root])\n",
        "    \n",
        "    def get_embedding_preparation_config(self) -> EmbeddingPreparationConfig:\n",
        "\n",
        "        config = self.config.embedding_preparation\n",
        "\n",
        "        create_directories([config.root_dir])\n",
        "\n",
        "        embedding_preparation_config = EmbeddingPreparationConfig(\n",
        "            root_dir = Path(config.root_dir),\n",
        "            source_URL=config.source_URL,\n",
        "            local_embedding_file=Path(config.local_embedding_file),\n",
        "            unzip_dir=Path(config.unzip_dir),\n",
        "            params_embedding_dims=self.params.EMBEDDING_DIM,\n",
        "            params_vocab_size=self.params.VOCAB_SIZE\n",
        "        )\n",
        "\n",
        "        return embedding_preparation_config  \n",
        "        "
      ]
    },
    {
      "cell_type": "code",
      "execution_count": 7,
      "metadata": {},
      "outputs": [
        {
          "name": "stderr",
          "output_type": "stream",
          "text": [
            "c:\\Users\\sajit\\anaconda3\\envs\\tf(GPU)3\\lib\\site-packages\\tqdm\\auto.py:21: TqdmWarning: IProgress not found. Please update jupyter and ipywidgets. See https://ipywidgets.readthedocs.io/en/stable/user_install.html\n",
            "  from .autonotebook import tqdm as notebook_tqdm\n"
          ]
        }
      ],
      "source": [
        "import os\n",
        "import pickle\n",
        "import urllib.request as request\n",
        "import zipfile\n",
        "from pathlib import Path\n",
        "from named_entity_recognition import logger\n",
        "from named_entity_recognition.utils.common import get_size\n",
        "import tensorflow as tf\n",
        "import numpy as np\n",
        "from named_entity_recognition.entity.config_entity import EmbeddingPreparationConfig"
      ]
    },
    {
      "cell_type": "code",
      "execution_count": 9,
      "metadata": {},
      "outputs": [],
      "source": [
        "class EmbeddingPreparation:\n",
        "\n",
        "    def __init__(self, config: EmbeddingPreparationConfig):\n",
        "        self.config = config\n",
        "\n",
        "    def download_file(self):\n",
        "        if not os.path.exists(self.config.local_embedding_file):\n",
        "            filename, headers = request.urlretrieve(\n",
        "                url = self.config.source_URL,\n",
        "                filename = self.config.local_embedding_file\n",
        "            )\n",
        "            logger.info(f\"{filename} download! with following info: \\n{headers}\")\n",
        "        else:\n",
        "            logger.info(f\"File already exists of size: {get_size(Path(self.config.local_embedding_file))}\")  \n",
        "    \n",
        "    def unzip_file(self):\n",
        "        unzip_path = self.config.unzip_dir\n",
        "        os.makedirs(unzip_path, exist_ok=True)\n",
        "        with zipfile.ZipFile(self.config.local_embedding_file, 'r') as zip_ref:\n",
        "            zip_ref.extractall(unzip_path)\n",
        "\n",
        "    def prepare_word_to_vec(self):\n",
        "        word_to_vec = {}\n",
        "        with open(os.path.join(self.config.unzip_dir, f'glove.6B.{self.config.params_embedding_dims}d.txt'),'r', encoding='utf-8') as f:\n",
        "            for line in f:\n",
        "                values = line.split()\n",
        "                word = values[0]\n",
        "                vector = np.asarray(values[1:],'float32')\n",
        "                word_to_vec[word]=vector\n",
        "        self.word_to_vec = word_to_vec\n",
        "\n",
        "    def prepare_tokenizer(self):\n",
        "        tokenizer = tf.keras.preprocessing.text.Tokenizer(oov_token='<OOV>')\n",
        "        tokenizer.fit_on_texts(self.word_to_vec.keys())\n",
        "        self.tokenizer = tokenizer\n",
        "        with open(os.path.join(self.config.root_dir, 'tokenizer.pickle'), 'wb') as f:\n",
        "            pickle.dump(self.tokenizer, f)\n",
        "    \n",
        "    def prepare_embedding_weights(self):\n",
        "        embedding_weights = np.zeros((self.config.params_vocab_size, self.config.params_embedding_dims))\n",
        "        for word, i in self.tokenizer.word_index.items():\n",
        "            if word in self.word_to_vec:\n",
        "                embedding_weights[i] = self.word_to_vec[word]\n",
        "        with open(os.path.join(self.config.root_dir, 'embedding.pickle'), 'wb') as f:\n",
        "            pickle.dump(embedding_weights, f)"
      ]
    },
    {
      "cell_type": "code",
      "execution_count": null,
      "metadata": {},
      "outputs": [],
      "source": [
        "try:\n",
        "    config = ConfigurationManager()\n",
        "    embedding_preparation_config = config.get_embedding_preparation_config()\n",
        "    embedding_preparation = EmbeddingPreparation(embedding_preparation_config)\n",
        "    embedding_preparation.download_file()\n",
        "    embedding_preparation.unzip_file()\n",
        "    embedding_preparation.prepare_word_to_vec()\n",
        "    embedding_preparation.prepare_tokenizer()\n",
        "    embedding_preparation.prepare_embedding_weights()\n",
        "except Exception as e:\n",
        "    raise e"
      ]
    },
    {
      "cell_type": "code",
      "execution_count": null,
      "metadata": {},
      "outputs": [],
      "source": []
    }
  ],
  "metadata": {
    "kernelspec": {
      "display_name": "tf(GPU)3",
      "language": "python",
      "name": "python3"
    },
    "language_info": {
      "codemirror_mode": {
        "name": "ipython",
        "version": 3
      },
      "file_extension": ".py",
      "mimetype": "text/x-python",
      "name": "python",
      "nbconvert_exporter": "python",
      "pygments_lexer": "ipython3",
      "version": "3.11.4"
    }
  },
  "nbformat": 4,
  "nbformat_minor": 2
}
