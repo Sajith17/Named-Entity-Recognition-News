{
 "cells": [
  {
   "cell_type": "code",
   "execution_count": 1,
   "metadata": {},
   "outputs": [],
   "source": [
    "import os\n",
    "os.chdir(\"../\")"
   ]
  },
  {
   "cell_type": "code",
   "execution_count": 2,
   "metadata": {},
   "outputs": [
    {
     "data": {
      "text/plain": [
       "'c:\\\\Users\\\\sajit\\\\OneDrive\\\\Documents\\\\Desktop\\\\Pythonn\\\\Git\\\\Named-Entity-Recognition-News\\\\backend'"
      ]
     },
     "execution_count": 2,
     "metadata": {},
     "output_type": "execute_result"
    }
   ],
   "source": [
    "%pwd"
   ]
  },
  {
   "cell_type": "code",
   "execution_count": 3,
   "metadata": {},
   "outputs": [],
   "source": [
    "from dataclasses import dataclass\n",
    "from pathlib import Path\n",
    "\n",
    "@dataclass(frozen=True)\n",
    "class DataTransformationConfig:\n",
    "    root_dir: Path\n",
    "    dataset_name: str\n",
    "    data_path: Path\n",
    "    tokenizer_path: Path\n",
    "    params_max_sequence_length: int\n",
    "    params_label_all_tokens: bool"
   ]
  },
  {
   "cell_type": "code",
   "execution_count": 4,
   "metadata": {},
   "outputs": [],
   "source": [
    "from named_entity_recognition.constants import *\n",
    "from named_entity_recognition.utils.common import read_yaml, create_directories"
   ]
  },
  {
   "cell_type": "code",
   "execution_count": 5,
   "metadata": {},
   "outputs": [],
   "source": [
    "class ConfigurationManager:\n",
    "    def __init__(self,\n",
    "                 config_filepath = CONFIG_FILE_PATH,\n",
    "                 params_filepath = PARAMS_FILE_PATH):\n",
    "        self.config = read_yaml(config_filepath)\n",
    "        self.params = read_yaml(params_filepath)\n",
    "\n",
    "        create_directories([self.config.artifacts_root])\n",
    "\n",
    "    def get_data_transformation_config(self) -> DataTransformationConfig:\n",
    "\n",
    "        config = self.config.data_transformation\n",
    "        create_directories([config.root_dir])\n",
    "\n",
    "        data_transformation_config = DataTransformationConfig(\n",
    "            root_dir = Path(config.root_dir),\n",
    "            dataset_name = self.config.data_ingestion.dataset_name,\n",
    "            data_path = Path(config.data_path),\n",
    "            tokenizer_path = Path(config.tokenizer_path),\n",
    "            params_max_sequence_length=self.params.MAX_SEQUENCE_LENGTH,\n",
    "            params_label_all_tokens=self.params.LABEL_ALL_TOKENS\n",
    "        )\n",
    "        return data_transformation_config"
   ]
  },
  {
   "cell_type": "code",
   "execution_count": 6,
   "metadata": {},
   "outputs": [
    {
     "name": "stderr",
     "output_type": "stream",
     "text": [
      "c:\\Users\\sajit\\anaconda3\\envs\\tf(GPU)3\\lib\\site-packages\\tqdm\\auto.py:21: TqdmWarning: IProgress not found. Please update jupyter and ipywidgets. See https://ipywidgets.readthedocs.io/en/stable/user_install.html\n",
      "  from .autonotebook import tqdm as notebook_tqdm\n"
     ]
    }
   ],
   "source": [
    "import os\n",
    "import pickle\n",
    "from datasets import load_from_disk\n",
    "import pickle\n",
    "from named_entity_recognition import logger\n",
    "import numpy as np\n",
    "import tensorflow as tf"
   ]
  },
  {
   "cell_type": "code",
   "execution_count": 7,
   "metadata": {},
   "outputs": [],
   "source": [
    "class DataTransformation:\n",
    "\n",
    "    def __init__(self, config: DataTransformationConfig):\n",
    "        self.config = config\n",
    "        self.tokenizer = self.load_tokenizer()\n",
    "\n",
    "    def transform_data(self):\n",
    "        data = load_from_disk(self.config.data_path)\n",
    "        data = data.map(self.tokenize_and_align_labels, batched=True).map(self.input_and_label_pad_sequence, batched=True).map(self.create_attention_mask, batched=True)\n",
    "        data.save_to_disk(os.path.join(self.config.root_dir,self.config.dataset_name))\n",
    "\n",
    "    def load_tokenizer(self):\n",
    "        with open(self.config.tokenizer_path, 'rb') as f:\n",
    "            tokenizer = pickle.load(f)\n",
    "        return tokenizer\n",
    "    \n",
    "    def tokenize_and_align_labels(self, examples):\n",
    "        tokenized_inputs = [self.tokenizer.texts_to_sequences(token) for token in examples['tokens']]\n",
    "        new_tokenized_inputs = []\n",
    "        labels = []\n",
    "        word_ids_list = []\n",
    "        for i,tokenized_input in enumerate(tokenized_inputs):\n",
    "            ner_tags = examples['ner_tags'][i]\n",
    "            label_ids = []\n",
    "            word_ids = []\n",
    "            tokenized_sentence = []\n",
    "            for j,tokenized_words in enumerate(tokenized_input):\n",
    "                if tokenized_words:\n",
    "                    tokenized_sentence.extend(tokenized_words)\n",
    "                    word_ids.extend([j]*len(tokenized_words))\n",
    "                    label_ids.append(ner_tags[j])\n",
    "                    for k in range(len(tokenized_words)-1):\n",
    "                        label_ids.append(ner_tags[j] if self.config.params_label_all_tokens else 0)\n",
    "            labels.append(label_ids)\n",
    "            word_ids_list.append(word_ids)\n",
    "            new_tokenized_inputs.append(tokenized_sentence)\n",
    "        return {'input_ids': new_tokenized_inputs, 'word_ids': word_ids_list, 'labels': labels}\n",
    "    \n",
    "    def input_and_label_pad_sequence(self, examples):\n",
    "        return { 'input_ids': tf.keras.preprocessing.sequence.pad_sequences(examples['input_ids'],\n",
    "                                                                            maxlen = self.config.params_max_sequence_length, \n",
    "                                                                            padding='post', truncating='post'),\n",
    "                'labels': tf.keras.preprocessing.sequence.pad_sequences(examples['labels'],\n",
    "                                                                        maxlen = self.config.params_max_sequence_length, \n",
    "                                                                        padding='post', truncating='post', value=-1 )}\n",
    "    def create_attention_mask(self,examples):\n",
    "        mask = 1 - (np.array(examples['input_ids'])==0)\n",
    "        return {\"attention_mask\": mask}\n",
    "    "
   ]
  },
  {
   "cell_type": "code",
   "execution_count": 8,
   "metadata": {},
   "outputs": [
    {
     "name": "stdout",
     "output_type": "stream",
     "text": [
      "[2024-04-24 19:23:59,357: INFO: common: yaml file: config\\config.yaml loaded successfully]\n",
      "[2024-04-24 19:23:59,360: INFO: common: yaml file: params.yaml loaded successfully]\n",
      "[2024-04-24 19:23:59,360: INFO: common: created directory at: artifacts]\n",
      "[2024-04-24 19:23:59,362: INFO: common: created directory at: artifacts/data_transformation]\n"
     ]
    },
    {
     "name": "stderr",
     "output_type": "stream",
     "text": [
      "                                                                                                 \r"
     ]
    }
   ],
   "source": [
    "try:\n",
    "    config = ConfigurationManager()\n",
    "    data_transformation_config = config.get_data_transformation_config()\n",
    "    data_transformation = DataTransformation(config=data_transformation_config)\n",
    "    data_transformation.transform_data()\n",
    "except Exception as e:\n",
    "    raise e"
   ]
  }
 ],
 "metadata": {
  "kernelspec": {
   "display_name": "tf(GPU)3",
   "language": "python",
   "name": "python3"
  },
  "language_info": {
   "codemirror_mode": {
    "name": "ipython",
    "version": 3
   },
   "file_extension": ".py",
   "mimetype": "text/x-python",
   "name": "python",
   "nbconvert_exporter": "python",
   "pygments_lexer": "ipython3",
   "version": "3.7.16"
  }
 },
 "nbformat": 4,
 "nbformat_minor": 2
}
