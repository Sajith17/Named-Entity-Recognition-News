{
  "cells": [
    {
      "cell_type": "code",
      "execution_count": 2,
      "metadata": {},
      "outputs": [],
      "source": [
        "import os"
      ]
    },
    {
      "cell_type": "code",
      "execution_count": 3,
      "metadata": {},
      "outputs": [
        {
          "data": {
            "text/plain": [
              "'c:\\\\Users\\\\sajit\\\\OneDrive\\\\Documents\\\\Desktop\\\\Pythonn\\\\Git\\\\Named-Entity-Recognition-News\\\\backend\\\\research'"
            ]
          },
          "execution_count": 3,
          "metadata": {},
          "output_type": "execute_result"
        }
      ],
      "source": [
        "%pwd"
      ]
    },
    {
      "cell_type": "code",
      "execution_count": 4,
      "metadata": {},
      "outputs": [],
      "source": [
        "os.chdir(\"../\")"
      ]
    },
    {
      "cell_type": "code",
      "execution_count": 5,
      "metadata": {},
      "outputs": [
        {
          "data": {
            "text/plain": [
              "'c:\\\\Users\\\\sajit\\\\OneDrive\\\\Documents\\\\Desktop\\\\Pythonn\\\\Git\\\\Named-Entity-Recognition-News\\\\backend'"
            ]
          },
          "execution_count": 5,
          "metadata": {},
          "output_type": "execute_result"
        }
      ],
      "source": [
        "%pwd"
      ]
    },
    {
      "cell_type": "code",
      "execution_count": 91,
      "metadata": {},
      "outputs": [],
      "source": [
        "from dataclasses import dataclass\n",
        "from pathlib import Path\n",
        "\n",
        "@dataclass(frozen=True)\n",
        "class DataIngestionConfig:\n",
        "    root_dir: Path\n",
        "    dataset_name: str"
      ]
    },
    {
      "cell_type": "code",
      "execution_count": 92,
      "metadata": {},
      "outputs": [],
      "source": [
        "from named_entity_recognition.constants import *\n",
        "from named_entity_recognition.utils.common import read_yaml, create_directories"
      ]
    },
    {
      "cell_type": "code",
      "execution_count": 93,
      "metadata": {},
      "outputs": [],
      "source": [
        "class ConfigurationManager:\n",
        "     def __init__(self, \n",
        "               config_filepath = CONFIG_FILE_PATH,\n",
        "               params_filepath = PARAMS_FILE_PATH):\n",
        "          self.config = read_yaml(config_filepath)\n",
        "          self.params = read_yaml(params_filepath)\n",
        "          \n",
        "          create_directories([self.config.artifacts_root])\n",
        "    \n",
        "     def get_data_ingestion_config(self) -> DataIngestionConfig:\n",
        "          config = self.config.data_ingestion\n",
        "\n",
        "          create_directories([config.root_dir])\n",
        "\n",
        "          data_ingestion_config = DataIngestionConfig(\n",
        "               root_dir=Path(config.root_dir),\n",
        "               dataset_name=config.dataset_name,\n",
        "          )\n",
        "\n",
        "          return data_ingestion_config\n"
      ]
    },
    {
      "cell_type": "code",
      "execution_count": 89,
      "metadata": {},
      "outputs": [],
      "source": [
        "import os\n",
        "from datasets import load_dataset\n",
        "from named_entity_recognition import logger\n",
        "from named_entity_recognition.utils.common import get_size"
      ]
    },
    {
      "cell_type": "code",
      "execution_count": 94,
      "metadata": {},
      "outputs": [],
      "source": [
        "class DataIngestion:\n",
        "\n",
        "    def __init__(self, config: DataIngestionConfig):\n",
        "        self.config = config\n",
        "\n",
        "    def download_file(self):\n",
        "        local_data_file = os.path.join(self.config.root_dir,self.config.dataset_name)\n",
        "        if not os.path.exists(local_data_file):\n",
        "            data = load_dataset(self.config.dataset_name)\n",
        "            data.save_to_disk(local_data_file)\n",
        "            logger.info(f\"{self.config.dataset_name} dataset downloaded successfully\")\n",
        "\n",
        "        else:\n",
        "            logger.info(f\"File already exists of size: {get_size(local_data_file)}\")"
      ]
    },
    {
      "cell_type": "code",
      "execution_count": 97,
      "metadata": {},
      "outputs": [
        {
          "name": "stdout",
          "output_type": "stream",
          "text": [
            "[2024-04-22 22:44:37,574: INFO: common: yaml file: config\\config.yaml loaded successfully]\n",
            "[2024-04-22 22:44:37,577: INFO: common: yaml file: params.yaml loaded successfully]\n",
            "[2024-04-22 22:44:37,578: INFO: common: created directory at: artifacts]\n",
            "[2024-04-22 22:44:37,579: INFO: common: created directory at: artifacts/data_ingestion]\n",
            "[2024-04-22 22:44:37,580: INFO: 2033197813: File already exists of size: ~ 0 KB]\n"
          ]
        }
      ],
      "source": [
        "try:\n",
        "    config = ConfigurationManager()\n",
        "    data_ingestion_config = config.get_data_ingestion_config()\n",
        "    data_ingestion = DataIngestion(config=data_ingestion_config)\n",
        "    data_ingestion.download_file()\n",
        "except Exception as e:\n",
        "    raise e"
      ]
    },
    {
      "cell_type": "code",
      "execution_count": 15,
      "metadata": {},
      "outputs": [
        {
          "data": {
            "text/plain": [
              "str"
            ]
          },
          "execution_count": 15,
          "metadata": {},
          "output_type": "execute_result"
        }
      ],
      "source": []
    }
  ],
  "metadata": {
    "kernelspec": {
      "display_name": "tf(GPU)3",
      "language": "python",
      "name": "python3"
    },
    "language_info": {
      "codemirror_mode": {
        "name": "ipython",
        "version": 3
      },
      "file_extension": ".py",
      "mimetype": "text/x-python",
      "name": "python",
      "nbconvert_exporter": "python",
      "pygments_lexer": "ipython3",
      "version": "3.7.16"
    }
  },
  "nbformat": 4,
  "nbformat_minor": 2
}
