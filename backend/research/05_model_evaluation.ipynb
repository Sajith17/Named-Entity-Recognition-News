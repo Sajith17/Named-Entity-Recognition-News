{
 "cells": [
  {
   "cell_type": "code",
   "execution_count": 1,
   "metadata": {},
   "outputs": [],
   "source": [
    "import os\n",
    "os.chdir(\"../\")"
   ]
  },
  {
   "cell_type": "code",
   "execution_count": 2,
   "metadata": {},
   "outputs": [],
   "source": [
    "\n",
    "os.environ[\"MLFLOW_TRACKING_URI\"]=\"https://dagshub.com/sajithseelan17/Named-Entity-Recognition-News.mlflow\"\n",
    "os.environ[\"MLFLOW_TRACKING_USERNAME\"]=\"sajithseelan17\"\n",
    "os.environ[\"MLFLOW_TRACKING_PASSWORD\"]=\"194da69e16c5534858029590ccff6c5e6a34d178\""
   ]
  },
  {
   "cell_type": "code",
   "execution_count": 3,
   "metadata": {},
   "outputs": [],
   "source": [
    "from dataclasses import dataclass\n",
    "from pathlib import Path\n",
    "\n",
    "@dataclass(frozen=True)\n",
    "class ModelEvaluationConfig:\n",
    "    root_dir: Path\n",
    "    data_path: Path\n",
    "    model_path: Path\n",
    "    mlflow_uri: str\n",
    "    all_params: dict\n",
    "    params_num_encoder_layers: int\n",
    "    params_num_tags: int\n",
    "    params_vocab_size: int\n",
    "    params_embedding_dim: int\n",
    "    params_fully_connected_dim: int\n",
    "    params_num_heads: int\n",
    "    params_max_positional_encoding_length: int\n",
    "    params_batch_size: int"
   ]
  },
  {
   "cell_type": "code",
   "execution_count": 4,
   "metadata": {},
   "outputs": [],
   "source": [
    "from named_entity_recognition.constants import *\n",
    "from named_entity_recognition.utils.common import read_yaml, create_directories"
   ]
  },
  {
   "cell_type": "code",
   "execution_count": 5,
   "metadata": {},
   "outputs": [],
   "source": [
    "class ConfigurationManager:\n",
    "    def __init__(self,\n",
    "                 config_filepath = CONFIG_FILE_PATH,\n",
    "                 params_filepath = PARAMS_FILE_PATH):\n",
    "        self.config = read_yaml(config_filepath)\n",
    "        self.params = read_yaml(params_filepath)\n",
    "\n",
    "        create_directories([self.config.artifacts_root])\n",
    "\n",
    "    def get_model_evaluation_config(self):\n",
    "\n",
    "        config = self.config.model_evaluation\n",
    "        create_directories([config.root_dir])\n",
    "\n",
    "        evaluation_config = ModelEvaluationConfig(\n",
    "            root_dir = Path(config.root_dir),\n",
    "            data_path = Path(config.data_path),\n",
    "            model_path = Path(config.model_path),\n",
    "            mlflow_uri = config.mlflow_uri,\n",
    "            all_params = self.params,\n",
    "            params_num_encoder_layers=self.params.NUM_ENCODER_LAYERS,\n",
    "            params_num_tags = self.params.NUM_TAGS,\n",
    "            params_vocab_size = self.params.VOCAB_SIZE,\n",
    "            params_embedding_dim = self.params.EMBEDDING_DIM,\n",
    "            params_fully_connected_dim = self.params.FULLY_CONNECTED_DIM,\n",
    "            params_num_heads = self.params.NUM_HEADS,\n",
    "            params_max_positional_encoding_length = self.params.MAX_POSITIONAL_ENCODING_LENGTH,\n",
    "            params_batch_size = self.params.BATCH_SIZE,    \n",
    "        )\n",
    "\n",
    "        return evaluation_config"
   ]
  },
  {
   "cell_type": "code",
   "execution_count": 6,
   "metadata": {},
   "outputs": [
    {
     "name": "stdout",
     "output_type": "stream",
     "text": [
      "[2024-04-27 16:06:11,203: INFO: config: TensorFlow version 2.14.0 available.]\n"
     ]
    },
    {
     "name": "stderr",
     "output_type": "stream",
     "text": [
      "C:\\Users\\sajit\\AppData\\Roaming\\Python\\Python311\\site-packages\\tqdm\\auto.py:21: TqdmWarning: IProgress not found. Please update jupyter and ipywidgets. See https://ipywidgets.readthedocs.io/en/stable/user_install.html\n",
      "  from .autonotebook import tqdm as notebook_tqdm\n"
     ]
    }
   ],
   "source": [
    "import os\n",
    "import json\n",
    "from datasets import load_from_disk\n",
    "from named_entity_recognition import logger\n",
    "from named_entity_recognition.transformer.model import NERModel\n",
    "from named_entity_recognition.transformer.losses import MaskedLoss\n",
    "from named_entity_recognition.transformer.metrics import masked_acc\n",
    "from named_entity_recognition.transformer.optimizer import CustomSchedule\n",
    "from named_entity_recognition.utils.common import save_json\n",
    "import numpy as np\n",
    "import tensorflow as tf\n",
    "import mlflow\n",
    "from urllib.parse import urlparse\n",
    "from sklearn.metrics import precision_score, recall_score, f1_score, accuracy_score"
   ]
  },
  {
   "cell_type": "code",
   "execution_count": 14,
   "metadata": {},
   "outputs": [],
   "source": [
    "class ModelEvaluation:\n",
    "\n",
    "    def __init__(self, config: ModelEvaluationConfig):\n",
    "        self.config = config\n",
    "\n",
    "    def evaluate(self):\n",
    "        \n",
    "        test = load_from_disk(str(self.config.data_path))['test']\n",
    "        test_input = tf.data.Dataset.from_tensor_slices(tf.concat((test['input_ids'],test['attention_mask']), axis = -1)).batch(self.config.params_batch_size)\n",
    "        y_true = test['labels']\n",
    "        y_pred = self.model.predict(test_input)\n",
    "        loss = MaskedLoss()(y_true, y_pred)\n",
    "        metrics = self.compute_metrics(y_true, y_pred)\n",
    "\n",
    "        self.scores = {\n",
    "            'loss': float(loss),\n",
    "            **metrics,\n",
    "        }\n",
    "        save_json(Path(os.path.join(self.config.root_dir,'scores.json')), self.scores)\n",
    "\n",
    "    def get_model(self):\n",
    "        self.model = tf.keras.models.load_model(self.config.model_path, custom_objects={\n",
    "            'NERModel':NERModel,\n",
    "            'MaskedLoss':MaskedLoss,\n",
    "            'masked_acc': masked_acc,\n",
    "            'CustomSchedule': CustomSchedule\n",
    "        })\n",
    "\n",
    "    def log_into_mlflow(self):\n",
    "        mlflow.set_registry_uri(self.config.mlflow_uri)\n",
    "        tracking_url_type_store = urlparse(mlflow.get_tracking_uri()).scheme\n",
    "        \n",
    "        with mlflow.start_run():\n",
    "            mlflow.log_params(self.config.all_params)\n",
    "            mlflow.log_metrics(\n",
    "                self.scores\n",
    "            )\n",
    "            # Model registry does not work with file store\n",
    "            if tracking_url_type_store != \"file\":\n",
    "\n",
    "                # Register the model\n",
    "                # There are other ways to use the Model Registry, which depends on the use case,\n",
    "                # please refer to the doc for more information:\n",
    "                # https://mlflow.org/docs/latest/model-registry.html#api-workflow\n",
    "                mlflow.keras.log_model(self.model, \"model.keras\", registered_model_name=\"NERModel\")\n",
    "            else:\n",
    "                mlflow.keras.log_model(self.model, \"model.keras\")\n",
    "        \n",
    "\n",
    "    @staticmethod\n",
    "    def compute_metrics(labels, pred_logits):\n",
    "\n",
    "        pred_logits = np.argmax(pred_logits, axis=-1)\n",
    "\n",
    "        predictions = []\n",
    "        for prediction, label in zip(pred_logits, labels):\n",
    "            for eval_pred, l in zip(prediction, label):\n",
    "                if l!= -1:\n",
    "                    predictions.append(eval_pred)\n",
    "\n",
    "        true_labels = []\n",
    "        for prediction, label in zip(pred_logits, labels):\n",
    "            for eval_pred, l in zip(prediction, label):\n",
    "                if l!= -1:\n",
    "                    true_labels.append(l)\n",
    "\n",
    "        accuracy = accuracy_score(true_labels, predictions)\n",
    "        precision = precision_score(true_labels, predictions, average='macro')\n",
    "        recall = recall_score(true_labels, predictions, average='macro')\n",
    "        f1 = f1_score(true_labels, predictions, average='macro')\n",
    "        \n",
    "        return {'accuracy': accuracy,\n",
    "                'precision': precision,\n",
    "                'recall': recall,\n",
    "                'f1_score': f1 }\n"
   ]
  },
  {
   "cell_type": "code",
   "execution_count": 16,
   "metadata": {},
   "outputs": [
    {
     "name": "stdout",
     "output_type": "stream",
     "text": [
      "[2024-04-27 16:09:27,518: INFO: common: yaml file: config\\config.yaml loaded successfully]\n",
      "[2024-04-27 16:09:27,522: INFO: common: yaml file: params.yaml loaded successfully]\n",
      "[2024-04-27 16:09:27,523: INFO: common: created directory at: artifacts]\n",
      "[2024-04-27 16:09:27,524: INFO: common: created directory at: artifacts/model_evaluation]\n",
      "54/54 [==============================] - 4s 61ms/step\n",
      "[2024-04-27 16:09:32,867: INFO: common: json file saved at: artifacts\\model_evaluation\\scores.json]\n"
     ]
    },
    {
     "name": "stderr",
     "output_type": "stream",
     "text": [
      "c:\\Users\\sajit\\anaconda3\\envs\\NER\\Lib\\site-packages\\sklearn\\metrics\\_classification.py:1509: UndefinedMetricWarning: Precision is ill-defined and being set to 0.0 in labels with no predicted samples. Use `zero_division` parameter to control this behavior.\n",
      "  _warn_prf(average, modifier, f\"{metric.capitalize()} is\", len(result))\n",
      "2024/04/27 16:09:34 WARNING mlflow.tensorflow: You are saving a TensorFlow Core model or Keras model without a signature. Inference with mlflow.pyfunc.spark_udf() will not work unless the model's pyfunc representation accepts pandas DataFrames as inference inputs.\n"
     ]
    },
    {
     "name": "stdout",
     "output_type": "stream",
     "text": [
      "[2024-04-27 16:09:42,409: INFO: builder_impl: Assets written to: C:\\Users\\sajit\\AppData\\Local\\Temp\\tmp6dc1a1lo\\model\\data\\model\\assets]\n"
     ]
    },
    {
     "name": "stderr",
     "output_type": "stream",
     "text": [
      "2024/04/27 16:09:50 WARNING mlflow.utils.environment: Encountered an unexpected error while inferring pip requirements (model URI: C:\\Users\\sajit\\AppData\\Local\\Temp\\tmp6dc1a1lo\\model, flavor: tensorflow). Fall back to return ['tensorflow==2.14.0', 'cloudpickle==3.0.0']. Set logging level to DEBUG to see the full traceback. \n",
      "c:\\Users\\sajit\\anaconda3\\envs\\NER\\Lib\\site-packages\\_distutils_hack\\__init__.py:33: UserWarning: Setuptools is replacing distutils.\n",
      "  warnings.warn(\"Setuptools is replacing distutils.\")\n",
      "Successfully registered model 'Model'.\n",
      "2024/04/27 16:10:06 INFO mlflow.store.model_registry.abstract_store: Waiting up to 300 seconds for model version to finish creation. Model name: Model, version 1\n",
      "Created version '1' of model 'Model'.\n"
     ]
    }
   ],
   "source": [
    "try:\n",
    "    config = ConfigurationManager()\n",
    "    model_evaluation_config = config.get_model_evaluation_config()\n",
    "    model_evaluation = ModelEvaluation(config=model_evaluation_config)\n",
    "    model_evaluation.get_model()\n",
    "    model_evaluation.evaluate()\n",
    "    model_evaluation.log_into_mlflow()\n",
    "\n",
    "except Exception as e:\n",
    "    raise e"
   ]
  }
 ],
 "metadata": {
  "kernelspec": {
   "display_name": "tf(GPU)3",
   "language": "python",
   "name": "python3"
  },
  "language_info": {
   "codemirror_mode": {
    "name": "ipython",
    "version": 3
   },
   "file_extension": ".py",
   "mimetype": "text/x-python",
   "name": "python",
   "nbconvert_exporter": "python",
   "pygments_lexer": "ipython3",
   "version": "3.11.4"
  }
 },
 "nbformat": 4,
 "nbformat_minor": 2
}
