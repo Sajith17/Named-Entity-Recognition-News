{
  "cells": [
    {
      "cell_type": "code",
      "execution_count": 1,
      "metadata": {},
      "outputs": [
        {
          "data": {
            "text/plain": [
              "'c:\\\\Users\\\\sajit\\\\OneDrive\\\\Documents\\\\Desktop\\\\Pythonn\\\\Git\\\\Named-Entity-Recognition-News\\\\backend\\\\research'"
            ]
          },
          "execution_count": 1,
          "metadata": {},
          "output_type": "execute_result"
        }
      ],
      "source": [
        "%pwd"
      ]
    },
    {
      "cell_type": "code",
      "execution_count": 2,
      "metadata": {},
      "outputs": [],
      "source": [
        "import os\n",
        "os.chdir(\"../\")"
      ]
    },
    {
      "cell_type": "code",
      "execution_count": 3,
      "metadata": {},
      "outputs": [
        {
          "data": {
            "text/plain": [
              "'c:\\\\Users\\\\sajit\\\\OneDrive\\\\Documents\\\\Desktop\\\\Pythonn\\\\Git\\\\Named-Entity-Recognition-News\\\\backend'"
            ]
          },
          "execution_count": 3,
          "metadata": {},
          "output_type": "execute_result"
        }
      ],
      "source": [
        "%pwd"
      ]
    },
    {
      "cell_type": "code",
      "execution_count": 4,
      "metadata": {},
      "outputs": [],
      "source": [
        "from dataclasses import dataclass\n",
        "from pathlib import Path\n",
        "\n",
        "@dataclass(frozen=True)\n",
        "class TokenizerPreparationConfig:\n",
        "    root_dir: Path\n",
        "    data_path: Path\n"
      ]
    },
    {
      "cell_type": "code",
      "execution_count": 5,
      "metadata": {},
      "outputs": [],
      "source": [
        "from named_entity_recognition.constants import *\n",
        "from named_entity_recognition.utils.common import read_yaml, create_directories"
      ]
    },
    {
      "cell_type": "code",
      "execution_count": 19,
      "metadata": {},
      "outputs": [],
      "source": [
        "class ConfigurationManager:\n",
        "    def __init__(self,\n",
        "                 config_filepath = CONFIG_FILE_PATH,\n",
        "                 params_filepath = PARAMS_FILE_PATH):\n",
        "        self.config = read_yaml(config_filepath)\n",
        "        self.params = read_yaml(params_filepath)\n",
        "\n",
        "        create_directories([self.config.artifacts_root])\n",
        "    \n",
        "    def get_tokenizer_preparation_config(self) -> TokenizerPreparationConfig:\n",
        "\n",
        "        config = self.config.tokenizer_preparation\n",
        "\n",
        "        create_directories([config.root_dir])\n",
        "\n",
        "        tokenizer_preparation_config = TokenizerPreparationConfig(\n",
        "            root_dir = Path(config.root_dir),\n",
        "            data_path = Path(config.data_path)\n",
        "        )\n",
        "\n",
        "        return tokenizer_preparation_config    \n",
        "        "
      ]
    },
    {
      "cell_type": "code",
      "execution_count": 20,
      "metadata": {},
      "outputs": [],
      "source": [
        "import os\n",
        "import pickle\n",
        "from datasets import load_from_disk\n",
        "from named_entity_recognition import logger\n",
        "from named_entity_recognition.utils.common import get_size\n",
        "import tensorflow as tf"
      ]
    },
    {
      "cell_type": "code",
      "execution_count": 24,
      "metadata": {},
      "outputs": [],
      "source": [
        "class TokenizerPreparation:\n",
        "\n",
        "    def __init__(self, config: TokenizerPreparationConfig):\n",
        "        self.config = config\n",
        "\n",
        "    def prepare_tokenizer(self):\n",
        "        data = load_from_disk(self.config.data_path)\n",
        "        tokenizer = tf.keras.preprocessing.text.Tokenizer(oov_token=\"[UNK]\", lower=True)\n",
        "        tokenizer.fit_on_texts([' '.join(x) for x in data['train']['tokens']])\n",
        "        with open(os.path.join(self.config.root_dir, 'tokenizer.pickle'), 'wb') as f:\n",
        "            pickle.dump(tokenizer, f)\n",
        "        logger.info(f\"Tokenizer created successfully at {self.config.root_dir}\")"
      ]
    },
    {
      "cell_type": "code",
      "execution_count": 26,
      "metadata": {},
      "outputs": [
        {
          "name": "stdout",
          "output_type": "stream",
          "text": [
            "[2024-04-22 23:01:46,174: INFO: common: yaml file: config\\config.yaml loaded successfully]\n",
            "[2024-04-22 23:01:46,176: INFO: common: yaml file: params.yaml loaded successfully]\n",
            "[2024-04-22 23:01:46,177: INFO: common: created directory at: artifacts]\n",
            "[2024-04-22 23:01:46,178: INFO: common: created directory at: artifacts/tokenizer_preparation]\n",
            "[2024-04-22 23:01:46,527: INFO: 915053661: Tokenizer created successfully at artifacts\\tokenizer_preparation]\n"
          ]
        }
      ],
      "source": [
        "try:\n",
        "    config = ConfigurationManager()\n",
        "    tokenizer_preparation_config = config.get_tokenizer_preparation_config()\n",
        "    tokenizer_preparation = TokenizerPreparation(config=tokenizer_preparation_config)\n",
        "    tokenizer_preparation.prepare_tokenizer()\n",
        "except Exception as e:\n",
        "    raise e"
      ]
    },
    {
      "cell_type": "code",
      "execution_count": null,
      "metadata": {},
      "outputs": [],
      "source": []
    }
  ],
  "metadata": {
    "kernelspec": {
      "display_name": "tf(GPU)3",
      "language": "python",
      "name": "python3"
    },
    "language_info": {
      "codemirror_mode": {
        "name": "ipython",
        "version": 3
      },
      "file_extension": ".py",
      "mimetype": "text/x-python",
      "name": "python",
      "nbconvert_exporter": "python",
      "pygments_lexer": "ipython3",
      "version": "3.7.16"
    }
  },
  "nbformat": 4,
  "nbformat_minor": 2
}
